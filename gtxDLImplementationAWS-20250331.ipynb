{
 "cells": [
  {
   "cell_type": "code",
   "execution_count": 2,
   "id": "f5c23c0c",
   "metadata": {},
   "outputs": [],
   "source": [
    "# Automatically reloads imported files: this is not done manually by ipynb; this magic command tells the compiler that each time we update an imported file we want to reload it\n",
    "%load_ext autoreload\n",
    "# Reload all modules before executing code\n",
    "%autoreload 2\n",
    "\n",
    "#change\n"
   ]
  },
  {
   "cell_type": "code",
   "execution_count": 3,
   "id": "326f8dd9",
   "metadata": {},
   "outputs": [],
   "source": [
    "import sys,os\n",
    "\n",
    "sys.path.append(os.getcwd())\n",
    "\n"
   ]
  },
  {
   "cell_type": "code",
   "execution_count": null,
   "id": "aa3592f2",
   "metadata": {},
   "outputs": [],
   "source": []
  },
  {
   "cell_type": "code",
   "execution_count": 4,
   "id": "8c334fed",
   "metadata": {},
   "outputs": [],
   "source": [
    "#Spip list | grep tensorflow\n",
    "import sys,os\n",
    "sys.path.append(os.getcwd())\n",
    "from main import DL\n"
   ]
  },
  {
   "cell_type": "code",
   "execution_count": 4,
   "id": "e4d457c6",
   "metadata": {
    "scrolled": false
   },
   "outputs": [],
   "source": [
    "test = DL()"
   ]
  },
  {
   "cell_type": "code",
   "execution_count": null,
   "id": "bb8662ad",
   "metadata": {},
   "outputs": [],
   "source": [
    "test.importData(isTesting = True)"
   ]
  },
  {
   "cell_type": "code",
   "execution_count": null,
   "id": "d8a92dee",
   "metadata": {
    "scrolled": false
   },
   "outputs": [],
   "source": [
    "test.Train()\n"
   ]
  },
  {
   "cell_type": "code",
   "execution_count": null,
   "id": "afc42f1d",
   "metadata": {},
   "outputs": [],
   "source": [
    "%run 'run.py'"
   ]
  },
  {
   "cell_type": "code",
   "execution_count": null,
   "id": "4544f8ab",
   "metadata": {},
   "outputs": [],
   "source": [
    "!tar cvfz zipname.tar.gz ./predictions\n"
   ]
  },
  {
   "cell_type": "markdown",
   "id": "d5220121",
   "metadata": {},
   "source": []
  },
  {
   "cell_type": "code",
   "execution_count": 8,
   "id": "9516e30b",
   "metadata": {},
   "outputs": [
    {
     "name": "stdout",
     "output_type": "stream",
     "text": [
      "ModelParameters/Model1/FocusOnDepth.p\n",
      "ModelParameters/Model1/FocusOnDepth.p\n",
      "file uploaded to AWS\n"
     ]
    }
   ],
   "source": [
    "test.upload_to_S3()"
   ]
  },
  {
   "cell_type": "code",
   "execution_count": null,
   "id": "253a2941",
   "metadata": {
    "scrolled": false
   },
   "outputs": [],
   "source": [
    "test.load()\n"
   ]
  },
  {
   "cell_type": "code",
   "execution_count": null,
   "id": "06534927",
   "metadata": {},
   "outputs": [],
   "source": [
    "test.modelD.summary()"
   ]
  },
  {
   "cell_type": "code",
   "execution_count": null,
   "id": "634f45bb",
   "metadata": {},
   "outputs": [],
   "source": [
    "import numpy as np\n",
    "import matplotlib.pyplot as plt\n",
    "\n",
    "fig, axes = plt.subplots(1, 6, figsize=(18, 3))  # Create a 1x6 grid of subplots with a specific size\n",
    "\n",
    "for i in range(6):\n",
    "    ax = axes[i]  # Access each axis\n",
    "    img_data = np.squeeze(test.FL[0, :, :, i, 0])\n",
    "    img = ax.imshow(img_data,vmin=np.min(img_data), vmax=np.max(img_data), cmap='jet')  # Display the image\n",
    "    ax.axis('off')  # Turn off both axes and ticks\n",
    "\n",
    "    cbar = fig.colorbar(img, ax=ax, shrink=0.8)  # Shrink the colorbar to 80% of its size\n",
    "\n",
    "plt.show()"
   ]
  },
  {
   "cell_type": "code",
   "execution_count": null,
   "id": "571570f4",
   "metadata": {},
   "outputs": [],
   "source": [
    "test.Analysis()"
   ]
  },
  {
   "cell_type": "code",
   "execution_count": 8,
   "id": "a50993f4",
   "metadata": {},
   "outputs": [
    {
     "name": "stderr",
     "output_type": "stream",
     "text": [
      "c:\\Users\\Hikaru Kurosawa\\Documents\\GitHub\\gtxDLPytorch\\.venv\\Lib\\site-packages\\tqdm\\auto.py:21: TqdmWarning: IProgress not found. Please update jupyter and ipywidgets. See https://ipywidgets.readthedocs.io/en/stable/user_install.html\n",
      "  from .autonotebook import tqdm as notebook_tqdm\n"
     ]
    },
    {
     "ename": "AttributeError",
     "evalue": "partially initialized module 'torch._dynamo' has no attribute 'external_utils' (most likely due to a circular import)",
     "output_type": "error",
     "traceback": [
      "\u001b[1;31m---------------------------------------------------------------------------\u001b[0m",
      "\u001b[1;31mAttributeError\u001b[0m                            Traceback (most recent call last)",
      "File \u001b[1;32m~\\Documents\\GitHub\\gtxDLPytorch\\run.py:3\u001b[0m\n\u001b[0;32m      1\u001b[0m \u001b[38;5;28;01mimport\u001b[39;00m\u001b[38;5;250m \u001b[39m\u001b[38;5;21;01mjson\u001b[39;00m\n\u001b[0;32m      2\u001b[0m \u001b[38;5;28;01mfrom\u001b[39;00m\u001b[38;5;250m \u001b[39m\u001b[38;5;21;01mglob\u001b[39;00m\u001b[38;5;250m \u001b[39m\u001b[38;5;28;01mimport\u001b[39;00m glob\n\u001b[1;32m----> 3\u001b[0m \u001b[38;5;28;01mfrom\u001b[39;00m\u001b[38;5;250m \u001b[39m\u001b[38;5;21;01mFOD\u001b[39;00m\u001b[38;5;21;01m.\u001b[39;00m\u001b[38;5;21;01mPredictor\u001b[39;00m\u001b[38;5;250m \u001b[39m\u001b[38;5;28;01mimport\u001b[39;00m Predictor\n\u001b[0;32m      4\u001b[0m \u001b[38;5;28;01mfrom\u001b[39;00m\u001b[38;5;250m \u001b[39m\u001b[38;5;21;01mmain\u001b[39;00m\u001b[38;5;250m \u001b[39m\u001b[38;5;28;01mimport\u001b[39;00m DL\n\u001b[0;32m      5\u001b[0m \u001b[38;5;28;01mimport\u001b[39;00m\u001b[38;5;250m \u001b[39m\u001b[38;5;21;01mnumpy\u001b[39;00m\u001b[38;5;250m \u001b[39m\u001b[38;5;28;01mas\u001b[39;00m\u001b[38;5;250m \u001b[39m\u001b[38;5;21;01mnp\u001b[39;00m \n",
      "File \u001b[1;32m~\\Documents\\GitHub\\gtxDLPytorch\\FOD\\Predictor.py:11\u001b[0m\n\u001b[0;32m      7\u001b[0m \u001b[38;5;28;01mfrom\u001b[39;00m\u001b[38;5;250m \u001b[39m\u001b[38;5;21;01mscipy\u001b[39;00m\u001b[38;5;21;01m.\u001b[39;00m\u001b[38;5;21;01mndimage\u001b[39;00m\u001b[38;5;21;01m.\u001b[39;00m\u001b[38;5;21;01mfilters\u001b[39;00m\u001b[38;5;250m \u001b[39m\u001b[38;5;28;01mimport\u001b[39;00m gaussian_filter\n\u001b[0;32m      9\u001b[0m \u001b[38;5;28;01mfrom\u001b[39;00m\u001b[38;5;250m \u001b[39m\u001b[38;5;21;01mPIL\u001b[39;00m\u001b[38;5;250m \u001b[39m\u001b[38;5;28;01mimport\u001b[39;00m Image\n\u001b[1;32m---> 11\u001b[0m \u001b[38;5;28;01mfrom\u001b[39;00m\u001b[38;5;250m \u001b[39m\u001b[38;5;21;01mFOD\u001b[39;00m\u001b[38;5;21;01m.\u001b[39;00m\u001b[38;5;21;01mFocusOnDepth\u001b[39;00m\u001b[38;5;250m \u001b[39m\u001b[38;5;28;01mimport\u001b[39;00m FocusOnDepth\n\u001b[0;32m     12\u001b[0m \u001b[38;5;28;01mfrom\u001b[39;00m\u001b[38;5;250m \u001b[39m\u001b[38;5;21;01mFOD\u001b[39;00m\u001b[38;5;21;01m.\u001b[39;00m\u001b[38;5;21;01mutils\u001b[39;00m\u001b[38;5;250m \u001b[39m\u001b[38;5;28;01mimport\u001b[39;00m create_dir\n\u001b[0;32m     13\u001b[0m \u001b[38;5;28;01mfrom\u001b[39;00m\u001b[38;5;250m \u001b[39m\u001b[38;5;21;01mFOD\u001b[39;00m\u001b[38;5;21;01m.\u001b[39;00m\u001b[38;5;21;01mdataset\u001b[39;00m\u001b[38;5;250m \u001b[39m\u001b[38;5;28;01mimport\u001b[39;00m show\n",
      "File \u001b[1;32m~\\Documents\\GitHub\\gtxDLPytorch\\FOD\\FocusOnDepth.py:6\u001b[0m\n\u001b[0;32m      4\u001b[0m \u001b[38;5;28;01mimport\u001b[39;00m\u001b[38;5;250m \u001b[39m\u001b[38;5;21;01mtimm\u001b[39;00m\n\u001b[0;32m      5\u001b[0m \u001b[38;5;28;01mfrom\u001b[39;00m\u001b[38;5;250m \u001b[39m\u001b[38;5;21;01meinops\u001b[39;00m\u001b[38;5;250m \u001b[39m\u001b[38;5;28;01mimport\u001b[39;00m rearrange, repeat\n\u001b[1;32m----> 6\u001b[0m \u001b[38;5;28;01mfrom\u001b[39;00m\u001b[38;5;250m \u001b[39m\u001b[38;5;21;01meinops\u001b[39;00m\u001b[38;5;21;01m.\u001b[39;00m\u001b[38;5;21;01mlayers\u001b[39;00m\u001b[38;5;21;01m.\u001b[39;00m\u001b[38;5;21;01mtorch\u001b[39;00m\u001b[38;5;250m \u001b[39m\u001b[38;5;28;01mimport\u001b[39;00m Rearrange\n\u001b[0;32m      8\u001b[0m \u001b[38;5;28;01mfrom\u001b[39;00m\u001b[38;5;250m \u001b[39m\u001b[38;5;21;01mFOD\u001b[39;00m\u001b[38;5;21;01m.\u001b[39;00m\u001b[38;5;21;01mReassemble\u001b[39;00m\u001b[38;5;250m \u001b[39m\u001b[38;5;28;01mimport\u001b[39;00m Reassemble\n\u001b[0;32m      9\u001b[0m \u001b[38;5;28;01mfrom\u001b[39;00m\u001b[38;5;250m \u001b[39m\u001b[38;5;21;01mFOD\u001b[39;00m\u001b[38;5;21;01m.\u001b[39;00m\u001b[38;5;21;01mFusion\u001b[39;00m\u001b[38;5;250m \u001b[39m\u001b[38;5;28;01mimport\u001b[39;00m Fusion\n",
      "File \u001b[1;32mc:\\Users\\Hikaru Kurosawa\\Documents\\GitHub\\gtxDLPytorch\\.venv\\Lib\\site-packages\\einops\\layers\\torch.py:7\u001b[0m\n\u001b[0;32m      5\u001b[0m \u001b[38;5;28;01mfrom\u001b[39;00m\u001b[38;5;250m \u001b[39m\u001b[38;5;21;01m.\u001b[39;00m\u001b[38;5;250m \u001b[39m\u001b[38;5;28;01mimport\u001b[39;00m RearrangeMixin, ReduceMixin\n\u001b[0;32m      6\u001b[0m \u001b[38;5;28;01mfrom\u001b[39;00m\u001b[38;5;250m \u001b[39m\u001b[38;5;21;01m.\u001b[39;00m\u001b[38;5;21;01m_einmix\u001b[39;00m\u001b[38;5;250m \u001b[39m\u001b[38;5;28;01mimport\u001b[39;00m _EinmixMixin\n\u001b[1;32m----> 7\u001b[0m \u001b[38;5;28;01mfrom\u001b[39;00m\u001b[38;5;250m \u001b[39m\u001b[38;5;21;01m.\u001b[39;00m\u001b[38;5;21;01m.\u001b[39;00m\u001b[38;5;21;01m_torch_specific\u001b[39;00m\u001b[38;5;250m \u001b[39m\u001b[38;5;28;01mimport\u001b[39;00m apply_for_scriptable_torch\n\u001b[0;32m      9\u001b[0m __author__ \u001b[38;5;241m=\u001b[39m \u001b[38;5;124m\"\u001b[39m\u001b[38;5;124mAlex Rogozhnikov\u001b[39m\u001b[38;5;124m\"\u001b[39m\n\u001b[0;32m     12\u001b[0m \u001b[38;5;28;01mclass\u001b[39;00m\u001b[38;5;250m \u001b[39m\u001b[38;5;21;01mRearrange\u001b[39;00m(RearrangeMixin, torch\u001b[38;5;241m.\u001b[39mnn\u001b[38;5;241m.\u001b[39mModule):\n",
      "File \u001b[1;32mc:\\Users\\Hikaru Kurosawa\\Documents\\GitHub\\gtxDLPytorch\\.venv\\Lib\\site-packages\\einops\\_torch_specific.py:128\u001b[0m\n\u001b[0;32m    124\u001b[0m     _ops_were_registered_in_torchdynamo \u001b[38;5;241m=\u001b[39m \u001b[38;5;28;01mTrue\u001b[39;00m\n\u001b[0;32m    127\u001b[0m \u001b[38;5;66;03m# module import automatically registers ops in torchdynamo\u001b[39;00m\n\u001b[1;32m--> 128\u001b[0m \u001b[43mallow_ops_in_compiled_graph\u001b[49m\u001b[43m(\u001b[49m\u001b[43m)\u001b[49m\n",
      "File \u001b[1;32mc:\\Users\\Hikaru Kurosawa\\Documents\\GitHub\\gtxDLPytorch\\.venv\\Lib\\site-packages\\einops\\_torch_specific.py:107\u001b[0m, in \u001b[0;36mallow_ops_in_compiled_graph\u001b[1;34m()\u001b[0m\n\u001b[0;32m    105\u001b[0m     \u001b[38;5;28;01mreturn\u001b[39;00m\n\u001b[0;32m    106\u001b[0m \u001b[38;5;28;01mtry\u001b[39;00m:\n\u001b[1;32m--> 107\u001b[0m     \u001b[38;5;28;01mfrom\u001b[39;00m\u001b[38;5;250m \u001b[39m\u001b[38;5;21;01mtorch\u001b[39;00m\u001b[38;5;21;01m.\u001b[39;00m\u001b[38;5;21;01m_dynamo\u001b[39;00m\u001b[38;5;250m \u001b[39m\u001b[38;5;28;01mimport\u001b[39;00m allow_in_graph\n\u001b[0;32m    108\u001b[0m \u001b[38;5;28;01mexcept\u001b[39;00m \u001b[38;5;167;01mImportError\u001b[39;00m:\n\u001b[0;32m    109\u001b[0m     warnings\u001b[38;5;241m.\u001b[39mwarn(\u001b[38;5;124m\"\u001b[39m\u001b[38;5;124mallow_ops_in_compiled_graph failed to import torch: ensure pytorch >=2.0\u001b[39m\u001b[38;5;124m\"\u001b[39m, \u001b[38;5;167;01mImportWarning\u001b[39;00m)\n",
      "File \u001b[1;32mc:\\Users\\Hikaru Kurosawa\\Documents\\GitHub\\gtxDLPytorch\\.venv\\Lib\\site-packages\\torch\\_dynamo\\__init__.py:3\u001b[0m\n\u001b[0;32m      1\u001b[0m \u001b[38;5;28;01mimport\u001b[39;00m\u001b[38;5;250m \u001b[39m\u001b[38;5;21;01mtorch\u001b[39;00m\n\u001b[1;32m----> 3\u001b[0m \u001b[38;5;28;01mfrom\u001b[39;00m\u001b[38;5;250m \u001b[39m\u001b[38;5;21;01m.\u001b[39;00m\u001b[38;5;250m \u001b[39m\u001b[38;5;28;01mimport\u001b[39;00m convert_frame, eval_frame, resume_execution\n\u001b[0;32m      4\u001b[0m \u001b[38;5;28;01mfrom\u001b[39;00m\u001b[38;5;250m \u001b[39m\u001b[38;5;21;01m.\u001b[39;00m\u001b[38;5;21;01mbackends\u001b[39;00m\u001b[38;5;21;01m.\u001b[39;00m\u001b[38;5;21;01mregistry\u001b[39;00m\u001b[38;5;250m \u001b[39m\u001b[38;5;28;01mimport\u001b[39;00m list_backends, lookup_backend, register_backend\n\u001b[0;32m      5\u001b[0m \u001b[38;5;28;01mfrom\u001b[39;00m\u001b[38;5;250m \u001b[39m\u001b[38;5;21;01m.\u001b[39;00m\u001b[38;5;21;01mcallback\u001b[39;00m\u001b[38;5;250m \u001b[39m\u001b[38;5;28;01mimport\u001b[39;00m callback_handler, on_compile_end, on_compile_start\n",
      "File \u001b[1;32mc:\\Users\\Hikaru Kurosawa\\Documents\\GitHub\\gtxDLPytorch\\.venv\\Lib\\site-packages\\torch\\_dynamo\\convert_frame.py:33\u001b[0m\n\u001b[0;32m     31\u001b[0m \u001b[38;5;28;01mfrom\u001b[39;00m\u001b[38;5;250m \u001b[39m\u001b[38;5;21;01mtorch\u001b[39;00m\u001b[38;5;21;01m.\u001b[39;00m\u001b[38;5;21;01m_C\u001b[39;00m\u001b[38;5;21;01m.\u001b[39;00m\u001b[38;5;21;01m_dynamo\u001b[39;00m\u001b[38;5;21;01m.\u001b[39;00m\u001b[38;5;21;01mguards\u001b[39;00m\u001b[38;5;250m \u001b[39m\u001b[38;5;28;01mimport\u001b[39;00m GlobalStateGuard\n\u001b[0;32m     32\u001b[0m \u001b[38;5;28;01mfrom\u001b[39;00m\u001b[38;5;250m \u001b[39m\u001b[38;5;21;01mtorch\u001b[39;00m\u001b[38;5;21;01m.\u001b[39;00m\u001b[38;5;21;01m_dynamo\u001b[39;00m\u001b[38;5;21;01m.\u001b[39;00m\u001b[38;5;21;01mdistributed\u001b[39;00m\u001b[38;5;250m \u001b[39m\u001b[38;5;28;01mimport\u001b[39;00m get_compile_pg\n\u001b[1;32m---> 33\u001b[0m \u001b[38;5;28;01mfrom\u001b[39;00m\u001b[38;5;250m \u001b[39m\u001b[38;5;21;01mtorch\u001b[39;00m\u001b[38;5;21;01m.\u001b[39;00m\u001b[38;5;21;01m_dynamo\u001b[39;00m\u001b[38;5;21;01m.\u001b[39;00m\u001b[38;5;21;01msymbolic_convert\u001b[39;00m\u001b[38;5;250m \u001b[39m\u001b[38;5;28;01mimport\u001b[39;00m TensorifyState\n\u001b[0;32m     34\u001b[0m \u001b[38;5;28;01mfrom\u001b[39;00m\u001b[38;5;250m \u001b[39m\u001b[38;5;21;01mtorch\u001b[39;00m\u001b[38;5;21;01m.\u001b[39;00m\u001b[38;5;21;01m_guards\u001b[39;00m\u001b[38;5;250m \u001b[39m\u001b[38;5;28;01mimport\u001b[39;00m compile_context, CompileContext, CompileId, tracing\n\u001b[0;32m     35\u001b[0m \u001b[38;5;28;01mfrom\u001b[39;00m\u001b[38;5;250m \u001b[39m\u001b[38;5;21;01mtorch\u001b[39;00m\u001b[38;5;21;01m.\u001b[39;00m\u001b[38;5;21;01m_logging\u001b[39;00m\u001b[38;5;250m \u001b[39m\u001b[38;5;28;01mimport\u001b[39;00m structured\n",
      "File \u001b[1;32mc:\\Users\\Hikaru Kurosawa\\Documents\\GitHub\\gtxDLPytorch\\.venv\\Lib\\site-packages\\torch\\_dynamo\\symbolic_convert.py:30\u001b[0m\n\u001b[0;32m     27\u001b[0m \u001b[38;5;28;01mfrom\u001b[39;00m\u001b[38;5;250m \u001b[39m\u001b[38;5;21;01mtorch\u001b[39;00m\u001b[38;5;21;01m.\u001b[39;00m\u001b[38;5;21;01m_dynamo\u001b[39;00m\u001b[38;5;21;01m.\u001b[39;00m\u001b[38;5;21;01mexc\u001b[39;00m\u001b[38;5;250m \u001b[39m\u001b[38;5;28;01mimport\u001b[39;00m TensorifyScalarRestartAnalysis\n\u001b[0;32m     28\u001b[0m \u001b[38;5;28;01mfrom\u001b[39;00m\u001b[38;5;250m \u001b[39m\u001b[38;5;21;01mtorch\u001b[39;00m\u001b[38;5;21;01m.\u001b[39;00m\u001b[38;5;21;01m_guards\u001b[39;00m\u001b[38;5;250m \u001b[39m\u001b[38;5;28;01mimport\u001b[39;00m tracing, TracingContext\n\u001b[1;32m---> 30\u001b[0m \u001b[38;5;28;01mfrom\u001b[39;00m\u001b[38;5;250m \u001b[39m\u001b[38;5;21;01m.\u001b[39;00m\u001b[38;5;250m \u001b[39m\u001b[38;5;28;01mimport\u001b[39;00m config, exc, logging \u001b[38;5;28;01mas\u001b[39;00m torchdynamo_logging, trace_rules, variables\n\u001b[0;32m     31\u001b[0m \u001b[38;5;28;01mfrom\u001b[39;00m\u001b[38;5;250m \u001b[39m\u001b[38;5;21;01m.\u001b[39;00m\u001b[38;5;21;01mbytecode_analysis\u001b[39;00m\u001b[38;5;250m \u001b[39m\u001b[38;5;28;01mimport\u001b[39;00m (\n\u001b[0;32m     32\u001b[0m     get_indexof,\n\u001b[0;32m     33\u001b[0m     JUMP_OPNAMES,\n\u001b[0;32m     34\u001b[0m     livevars_analysis,\n\u001b[0;32m     35\u001b[0m     propagate_line_nums,\n\u001b[0;32m     36\u001b[0m )\n\u001b[0;32m     37\u001b[0m \u001b[38;5;28;01mfrom\u001b[39;00m\u001b[38;5;250m \u001b[39m\u001b[38;5;21;01m.\u001b[39;00m\u001b[38;5;21;01mbytecode_transformation\u001b[39;00m\u001b[38;5;250m \u001b[39m\u001b[38;5;28;01mimport\u001b[39;00m (\n\u001b[0;32m     38\u001b[0m     cleaned_instructions,\n\u001b[0;32m     39\u001b[0m     create_call_function,\n\u001b[1;32m   (...)\u001b[0m\n\u001b[0;32m     46\u001b[0m     unique_id,\n\u001b[0;32m     47\u001b[0m )\n",
      "File \u001b[1;32mc:\\Users\\Hikaru Kurosawa\\Documents\\GitHub\\gtxDLPytorch\\.venv\\Lib\\site-packages\\torch\\_dynamo\\trace_rules.py:46\u001b[0m\n\u001b[0;32m     44\u001b[0m \u001b[38;5;28;01mfrom\u001b[39;00m\u001b[38;5;250m \u001b[39m\u001b[38;5;21;01m.\u001b[39;00m\u001b[38;5;21;01mresume_execution\u001b[39;00m\u001b[38;5;250m \u001b[39m\u001b[38;5;28;01mimport\u001b[39;00m TORCH_DYNAMO_RESUME_IN_PREFIX\n\u001b[0;32m     45\u001b[0m \u001b[38;5;28;01mfrom\u001b[39;00m\u001b[38;5;250m \u001b[39m\u001b[38;5;21;01m.\u001b[39;00m\u001b[38;5;21;01mutils\u001b[39;00m\u001b[38;5;250m \u001b[39m\u001b[38;5;28;01mimport\u001b[39;00m getfile, hashable, NP_SUPPORTED_MODULES, unwrap_if_wrapper\n\u001b[1;32m---> 46\u001b[0m \u001b[38;5;28;01mfrom\u001b[39;00m\u001b[38;5;250m \u001b[39m\u001b[38;5;21;01m.\u001b[39;00m\u001b[38;5;21;01mvariables\u001b[39;00m\u001b[38;5;250m \u001b[39m\u001b[38;5;28;01mimport\u001b[39;00m (\n\u001b[0;32m     47\u001b[0m     BuiltinVariable,\n\u001b[0;32m     48\u001b[0m     FunctionalCallVariable,\n\u001b[0;32m     49\u001b[0m     FunctorchHigherOrderVariable,\n\u001b[0;32m     50\u001b[0m     NestedUserFunctionVariable,\n\u001b[0;32m     51\u001b[0m     PolyfilledFunctionVariable,\n\u001b[0;32m     52\u001b[0m     SkipFunctionVariable,\n\u001b[0;32m     53\u001b[0m     TorchInGraphFunctionVariable,\n\u001b[0;32m     54\u001b[0m     UserFunctionVariable,\n\u001b[0;32m     55\u001b[0m     UserMethodVariable,\n\u001b[0;32m     56\u001b[0m )\n\u001b[0;32m     59\u001b[0m np: Optional[types\u001b[38;5;241m.\u001b[39mModuleType] \u001b[38;5;241m=\u001b[39m \u001b[38;5;28;01mNone\u001b[39;00m\n\u001b[0;32m     60\u001b[0m \u001b[38;5;28;01mtry\u001b[39;00m:\n",
      "File \u001b[1;32mc:\\Users\\Hikaru Kurosawa\\Documents\\GitHub\\gtxDLPytorch\\.venv\\Lib\\site-packages\\torch\\_dynamo\\variables\\__init__.py:109\u001b[0m\n\u001b[0;32m     99\u001b[0m \u001b[38;5;28;01mfrom\u001b[39;00m\u001b[38;5;250m \u001b[39m\u001b[38;5;21;01m.\u001b[39;00m\u001b[38;5;21;01msdpa\u001b[39;00m\u001b[38;5;250m \u001b[39m\u001b[38;5;28;01mimport\u001b[39;00m SDPAParamsVariable\n\u001b[0;32m    100\u001b[0m \u001b[38;5;28;01mfrom\u001b[39;00m\u001b[38;5;250m \u001b[39m\u001b[38;5;21;01m.\u001b[39;00m\u001b[38;5;21;01mtensor\u001b[39;00m\u001b[38;5;250m \u001b[39m\u001b[38;5;28;01mimport\u001b[39;00m (\n\u001b[0;32m    101\u001b[0m     DataPtrVariable,\n\u001b[0;32m    102\u001b[0m     FakeItemVariable,\n\u001b[1;32m   (...)\u001b[0m\n\u001b[0;32m    107\u001b[0m     UntypedStorageVariable,\n\u001b[0;32m    108\u001b[0m )\n\u001b[1;32m--> 109\u001b[0m \u001b[38;5;28;01mfrom\u001b[39;00m\u001b[38;5;250m \u001b[39m\u001b[38;5;21;01m.\u001b[39;00m\u001b[38;5;21;01mtorch\u001b[39;00m\u001b[38;5;250m \u001b[39m\u001b[38;5;28;01mimport\u001b[39;00m TorchCtxManagerClassVariable, TorchInGraphFunctionVariable\n\u001b[0;32m    110\u001b[0m \u001b[38;5;28;01mfrom\u001b[39;00m\u001b[38;5;250m \u001b[39m\u001b[38;5;21;01m.\u001b[39;00m\u001b[38;5;21;01muser_defined\u001b[39;00m\u001b[38;5;250m \u001b[39m\u001b[38;5;28;01mimport\u001b[39;00m (\n\u001b[0;32m    111\u001b[0m     MutableMappingVariable,\n\u001b[0;32m    112\u001b[0m     RemovableHandleVariable,\n\u001b[0;32m    113\u001b[0m     UserDefinedClassVariable,\n\u001b[0;32m    114\u001b[0m     UserDefinedObjectVariable,\n\u001b[0;32m    115\u001b[0m )\n\u001b[0;32m    118\u001b[0m __all__ \u001b[38;5;241m=\u001b[39m [\n\u001b[0;32m    119\u001b[0m     \u001b[38;5;124m\"\u001b[39m\u001b[38;5;124mAutogradFunctionContextVariable\u001b[39m\u001b[38;5;124m\"\u001b[39m,\n\u001b[0;32m    120\u001b[0m     \u001b[38;5;124m\"\u001b[39m\u001b[38;5;124mAutogradFunctionVariable\u001b[39m\u001b[38;5;124m\"\u001b[39m,\n\u001b[1;32m   (...)\u001b[0m\n\u001b[0;32m    184\u001b[0m     \u001b[38;5;124m\"\u001b[39m\u001b[38;5;124mWithExitFunctionVariable\u001b[39m\u001b[38;5;124m\"\u001b[39m,\n\u001b[0;32m    185\u001b[0m ]\n",
      "File \u001b[1;32mc:\\Users\\Hikaru Kurosawa\\Documents\\GitHub\\gtxDLPytorch\\.venv\\Lib\\site-packages\\torch\\_dynamo\\variables\\torch.py:146\u001b[0m\n\u001b[0;32m    136\u001b[0m constant_fold_functions_need_guards \u001b[38;5;241m=\u001b[39m \u001b[38;5;28mdict\u001b[39m\u001b[38;5;241m.\u001b[39mfromkeys(constant_fold_functions_need_guards)\n\u001b[0;32m    137\u001b[0m constant_fold_functions \u001b[38;5;241m=\u001b[39m \u001b[38;5;28mdict\u001b[39m\u001b[38;5;241m.\u001b[39mfromkeys(constant_fold_functions)\n\u001b[0;32m    140\u001b[0m tracing_state_functions \u001b[38;5;241m=\u001b[39m {\n\u001b[0;32m    141\u001b[0m     torch\u001b[38;5;241m.\u001b[39mjit\u001b[38;5;241m.\u001b[39mis_scripting: \u001b[38;5;28;01mFalse\u001b[39;00m,\n\u001b[0;32m    142\u001b[0m     torch\u001b[38;5;241m.\u001b[39mjit\u001b[38;5;241m.\u001b[39mis_tracing: \u001b[38;5;28;01mFalse\u001b[39;00m,\n\u001b[0;32m    143\u001b[0m     torch\u001b[38;5;241m.\u001b[39m_C\u001b[38;5;241m.\u001b[39m_get_tracing_state: \u001b[38;5;28;01mNone\u001b[39;00m,\n\u001b[0;32m    144\u001b[0m     torch\u001b[38;5;241m.\u001b[39mfx\u001b[38;5;241m.\u001b[39m_symbolic_trace\u001b[38;5;241m.\u001b[39mis_fx_tracing: \u001b[38;5;28;01mFalse\u001b[39;00m,\n\u001b[0;32m    145\u001b[0m     torch\u001b[38;5;241m.\u001b[39monnx\u001b[38;5;241m.\u001b[39mis_in_onnx_export: \u001b[38;5;28;01mFalse\u001b[39;00m,\n\u001b[1;32m--> 146\u001b[0m     \u001b[43mtorch\u001b[49m\u001b[38;5;241;43m.\u001b[39;49m\u001b[43m_dynamo\u001b[49m\u001b[38;5;241;43m.\u001b[39;49m\u001b[43mexternal_utils\u001b[49m\u001b[38;5;241m.\u001b[39mis_compiling: \u001b[38;5;28;01mTrue\u001b[39;00m,\n\u001b[0;32m    147\u001b[0m     torch\u001b[38;5;241m.\u001b[39m_utils\u001b[38;5;241m.\u001b[39mis_compiling: \u001b[38;5;28;01mTrue\u001b[39;00m,\n\u001b[0;32m    148\u001b[0m     torch\u001b[38;5;241m.\u001b[39mcompiler\u001b[38;5;241m.\u001b[39mis_compiling: \u001b[38;5;28;01mTrue\u001b[39;00m,\n\u001b[0;32m    149\u001b[0m     torch\u001b[38;5;241m.\u001b[39mcompiler\u001b[38;5;241m.\u001b[39mis_dynamo_compiling: \u001b[38;5;28;01mTrue\u001b[39;00m,\n\u001b[0;32m    150\u001b[0m     torch\u001b[38;5;241m.\u001b[39mnn\u001b[38;5;241m.\u001b[39mmodules\u001b[38;5;241m.\u001b[39mactivation\u001b[38;5;241m.\u001b[39m_is_make_fx_tracing: \u001b[38;5;28;01mFalse\u001b[39;00m,\n\u001b[0;32m    151\u001b[0m }\n\u001b[0;32m    153\u001b[0m bin_ops \u001b[38;5;241m=\u001b[39m \u001b[38;5;28mdict\u001b[39m\u001b[38;5;241m.\u001b[39mfromkeys([\u001b[38;5;124m\"\u001b[39m\u001b[38;5;124madd\u001b[39m\u001b[38;5;124m\"\u001b[39m, \u001b[38;5;124m\"\u001b[39m\u001b[38;5;124msub\u001b[39m\u001b[38;5;124m\"\u001b[39m, \u001b[38;5;124m\"\u001b[39m\u001b[38;5;124mmul\u001b[39m\u001b[38;5;124m\"\u001b[39m, \u001b[38;5;124m\"\u001b[39m\u001b[38;5;124mdiv\u001b[39m\u001b[38;5;124m\"\u001b[39m, \u001b[38;5;124m\"\u001b[39m\u001b[38;5;124msqrt\u001b[39m\u001b[38;5;124m\"\u001b[39m])\n\u001b[0;32m    156\u001b[0m \u001b[38;5;129m@functools\u001b[39m\u001b[38;5;241m.\u001b[39mlru_cache(\u001b[38;5;28;01mNone\u001b[39;00m)\n\u001b[0;32m    157\u001b[0m \u001b[38;5;28;01mdef\u001b[39;00m\u001b[38;5;250m \u001b[39m\u001b[38;5;21mget_overridable_functions\u001b[39m():\n",
      "\u001b[1;31mAttributeError\u001b[0m: partially initialized module 'torch._dynamo' has no attribute 'external_utils' (most likely due to a circular import)"
     ]
    }
   ],
   "source": [
    "%run -i run.py\n"
   ]
  },
  {
   "cell_type": "code",
   "execution_count": null,
   "id": "cbaff132",
   "metadata": {},
   "outputs": [],
   "source": [
    "import numpy as np\n",
    "import matplotlib.pyplot as plt\n",
    "\n",
    "fig, axes = plt.subplots(1, 6, figsize=(18, 3))  # Create a 1x6 grid of subplots with a specific size\n",
    "\n",
    "for i in range(6):\n",
    "    ax = axes[i]  # Access each axis\n",
    "    img_data = np.squeeze(test.RE[0, :, :, i, 0])\n",
    "    img = ax.imshow(img_data,vmin=np.min(img_data), vmax=np.max(img_data), cmap='jet')  # Display the image\n",
    "    ax.axis('off')  # Turn off both axes and ticks\n",
    "\n",
    "    cbar = fig.colorbar(img, ax=ax, shrink=0.8)  # Shrink the colorbar to 80% of its size\n",
    "\n",
    "plt.show()"
   ]
  },
  {
   "cell_type": "code",
   "execution_count": null,
   "id": "dcac91c3",
   "metadata": {},
   "outputs": [],
   "source": [
    "import numpy as np\n",
    "import matplotlib.pyplot as plt\n",
    "\n",
    "fig, axes = plt.subplots(1, 2, figsize=(18, 3))  # Create a 1x6 grid of subplots with a specific size\n",
    "\n",
    "for i in range(2):\n",
    "    ax = axes[i]  # Access each axis\n",
    "    img_data = np.squeeze(test.OP[0, :, :, i])\n",
    "    img = ax.imshow(img_data,vmin=np.min(img_data), vmax=np.max(img_data), cmap='jet')  # Display the image\n",
    "    ax.axis('off')  # Turn off both axes and ticks\n",
    "\n",
    "    cbar = fig.colorbar(img, ax=ax, shrink=0.8)  # Shrink the colorbar to 80% of its size\n",
    "\n",
    "plt.show()"
   ]
  },
  {
   "cell_type": "code",
   "execution_count": null,
   "id": "b1960d2d",
   "metadata": {},
   "outputs": [],
   "source": [
    "#visualization of the filters and feature maps \n",
    "conv_layers = []\n",
    "for layer in test.modelD.layers:\n",
    "    \n",
    "    if 'conv' not in layer.name:\n",
    "        continue    \n",
    "\n",
    "    conv_layers.append(layer)\n",
    "    filters , bias = layer.get_weights()\n",
    "    print(layer.name , filters.shape)"
   ]
  },
  {
   "cell_type": "code",
   "execution_count": null,
   "id": "21912985",
   "metadata": {},
   "outputs": [],
   "source": [
    "# retrieve weights from the second hidden layer\n",
    "\n",
    "filters, bias = conv_layers[0].get_weights()\n",
    "\n",
    "# normalize filter values to 0-1 so we can visualize them\n",
    "f_min, f_max = filters.min(), filters.max()\n",
    "filters = (filters - f_min) / (f_max - f_min)"
   ]
  },
  {
   "cell_type": "code",
   "execution_count": null,
   "id": "14321594",
   "metadata": {},
   "outputs": [],
   "source": [
    "from matplotlib import pyplot\n",
    "n_filters =6\n",
    "ix=1\n",
    "fig = pyplot.figure(figsize=(20,15))\n",
    "for i in range(n_filters):\n",
    "    # get the filters\n",
    "    f = filters[:,:,:,0,i]\n",
    "    for j in range(3):\n",
    "        # subplot for 6 filters and 3 channels\n",
    "        pyplot.subplot(n_filters,3,ix)\n",
    "        pyplot.imshow(f[:,:,j] ,cmap='gray')\n",
    "        ix+=1\n",
    "#plot the filters \n",
    "pyplot.show()"
   ]
  },
  {
   "cell_type": "code",
   "execution_count": null,
   "id": "26ba5de3",
   "metadata": {},
   "outputs": [],
   "source": [
    "#list out convolutional layer indexes \n",
    "for i in range(len(test.modelD.layers)):\n",
    "    layer = test.modelD.layers[i]\n",
    "    if 'conv' not in layer.name:\n",
    "        continue    \n",
    "    print(i , layer.name , layer.output.shape)"
   ]
  },
  {
   "cell_type": "code",
   "execution_count": null,
   "id": "b6f92280",
   "metadata": {},
   "outputs": [],
   "source": [
    "#define the model \n",
    "test.visualize_feature_maps(65)"
   ]
  },
  {
   "cell_type": "code",
   "execution_count": null,
   "id": "6f657151",
   "metadata": {},
   "outputs": [],
   "source": [
    "#plot original image\n",
    "import numpy as np\n",
    "import matplotlib.pyplot as plt\n",
    "\n",
    "fig, axes = plt.subplots(1, 6, figsize=(18, 3))  # Create a 1x6 grid of subplots with a specific size\n",
    "\n",
    "for i in range(6):\n",
    "    ax = axes[i]  # Access each axis\n",
    "    img_data = np.squeeze(test.FL[0, :, :, i])\n",
    "    img = ax.imshow(img_data,vmin=np.min(img_data), vmax=np.max(img_data), cmap='jet')  # Display the image\n",
    "    ax.axis('off')  # Turn off both axes and ticks\n",
    "\n",
    "    cbar = fig.colorbar(img, ax=ax, shrink=0.8)  # Shrink the colorbar to 80% of its size\n",
    "\n",
    "plt.show()"
   ]
  },
  {
   "cell_type": "code",
   "execution_count": null,
   "id": "4215353a",
   "metadata": {},
   "outputs": [],
   "source": [
    "#calculating features_map\n",
    "from matplotlib import pyplot\n",
    "features = test.modelD_visualize.predict([test.OP, test.FL], batch_size = 1)\n",
    "print(features.shape)\n",
    "\n",
    "\n",
    "\n",
    "fig = pyplot.figure(figsize=(20, 15))\n",
    "for x in range(1):\n",
    "    #define new figure\n",
    "    fig, ax = plt.subplots(8, 8)\n",
    "    for i in range(1,features.shape[-1]+1):\n",
    "        #plt.subplot(8, 8,i)\n",
    "        ax[(i-1)//8, (i-1)%8].imshow(features[0,:,:,i-1] , cmap='gray')\n",
    "        ax[(i-1)//8, (i-1)%8].axis('off')\n",
    "    \n",
    "pyplot.show()"
   ]
  },
  {
   "cell_type": "code",
   "execution_count": null,
   "id": "8fd86325",
   "metadata": {},
   "outputs": [],
   "source": [
    "#load phantom data with different depths, check intensity values at each spatial frequency \n",
    "test.import_data_for_testing()\n"
   ]
  },
  {
   "cell_type": "code",
   "execution_count": null,
   "id": "06f70fa4",
   "metadata": {},
   "outputs": [],
   "source": [
    "print(test.FL.shape)"
   ]
  },
  {
   "cell_type": "code",
   "execution_count": null,
   "id": "a61468bb",
   "metadata": {},
   "outputs": [],
   "source": [
    "fx = [0, 0.05, 0.1, 0.15, 0.2, 0.25]\n",
    "for i in range(test.FL.shape[0]):\n",
    "    #for x in range(test.FL.shape[-1]):\n",
    "    plt.plot(fx, np.max(test.FL[i], axis = (0,1)))\n",
    "    plt.ylabel('Max Fluorescence Intensity')\n",
    "    plt.xlabel('Fx')\n",
    "    plt.title('Tumour 4 Max Intensity')\n"
   ]
  },
  {
   "cell_type": "code",
   "execution_count": null,
   "id": "88d99e7a",
   "metadata": {},
   "outputs": [],
   "source": [
    "#analyze only the middle portion \n",
    "for i in range(test.FL.shape[0]):\n",
    "    #for x in range(test.FL.shape[-1]):\n",
    "    plt.plot(fx, np.mean(test.FL[i,40:60,40:60], axis = (0,1)))\n",
    "    plt.ylabel('Mean Fluorescence Intensity')\n",
    "    plt.xlabel('Fx')\n",
    "    plt.title('Tumour 4 Mean Intensity')"
   ]
  },
  {
   "cell_type": "code",
   "execution_count": null,
   "id": "dc7ae866",
   "metadata": {},
   "outputs": [],
   "source": [
    "#analyze only the middle pixel \n",
    "for i in range(test.FL.shape[0]):\n",
    "    #for x in range(test.FL.shape[-1]):\n",
    "    plt.plot(fx, test.FL[i,50,50])\n",
    "    plt.ylabel('Pixel Wise Intensity')\n",
    "    plt.xlabel('Fx')\n",
    "    plt.title('Pixel Wise Intensity')"
   ]
  },
  {
   "cell_type": "code",
   "execution_count": null,
   "id": "6bac66cb",
   "metadata": {},
   "outputs": [],
   "source": [
    "#obtain the slope \n",
    "x_vec = np.linspace(1,5, 5)\n",
    "print(x)\n",
    "#for i in range(test.FL.shape[0]-1):\n",
    "for x in range(test.FL.shape[0]):\n",
    "    slope = [test.FL[x,50,50,i] - test.FL[x,50,50, i+1] for i in range(test.FL.shape[-1]-1)]\n",
    "    print(slope)\n",
    "    #for x in range(test.FL.shape[-1]):\n",
    "    plt.plot(x_vec, slope)\n",
    "    plt.ylabel('Pixel Wise Derivative')\n",
    "    plt.xlabel('Fx')\n",
    "    plt.title('Pixel Wise Derivative')"
   ]
  },
  {
   "cell_type": "code",
   "execution_count": null,
   "id": "88f90798",
   "metadata": {},
   "outputs": [],
   "source": [
    "#obtain the slope \n",
    "x_vec = np.linspace(1,5, 5)\n",
    "for i in range(test.FL.shape[-1]-1):\n",
    "    for x in range(test.FL.shape[0]):\n",
    "        slope = test.FL[x,50,50,i] - test.FL[x,50,50, i+1]#test.FL[x,50,50,0] - test.FL[x,50,50, 1]\n",
    "        depth = test.DF[x,50,50]\n",
    "        #for x in range(test.FL.shape[-1]):\n",
    "        plt.scatter(depth, slope, s=4, c = 'b')\n",
    "        plt.ylabel('Pixel Wise fluorescence derivative')\n",
    "        plt.xlabel('Depth')\n",
    "\n",
    "    plt.show()\n"
   ]
  },
  {
   "cell_type": "code",
   "execution_count": null,
   "id": "15c199c7",
   "metadata": {},
   "outputs": [],
   "source": []
  }
 ],
 "metadata": {
  "kernelspec": {
   "display_name": ".venv",
   "language": "python",
   "name": "python3"
  },
  "language_info": {
   "codemirror_mode": {
    "name": "ipython",
    "version": 3
   },
   "file_extension": ".py",
   "mimetype": "text/x-python",
   "name": "python",
   "nbconvert_exporter": "python",
   "pygments_lexer": "ipython3",
   "version": "3.12.9"
  }
 },
 "nbformat": 4,
 "nbformat_minor": 5
}
