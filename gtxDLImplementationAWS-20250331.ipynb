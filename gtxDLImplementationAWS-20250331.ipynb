{
 "cells": [
  {
   "cell_type": "code",
   "execution_count": 1,
   "id": "f5c23c0c",
   "metadata": {},
   "outputs": [],
   "source": [
    "# Automatically reloads imported files: this is not done manually by ipynb; this magic command tells the compiler that each time we update an imported file we want to reload it\n",
    "%load_ext autoreload\n",
    "# Reload all modules before executing code\n",
    "%autoreload 2\n",
    "\n",
    "#change\n"
   ]
  },
  {
   "cell_type": "code",
   "execution_count": 2,
   "id": "326f8dd9",
   "metadata": {},
   "outputs": [],
   "source": [
    "import sys,os\n",
    "\n",
    "sys.path.append(os.getcwd())\n",
    "\n"
   ]
  },
  {
   "cell_type": "code",
   "execution_count": null,
   "id": "aa3592f2",
   "metadata": {},
   "outputs": [],
   "source": []
  },
  {
   "cell_type": "code",
   "execution_count": 3,
   "id": "8c334fed",
   "metadata": {},
   "outputs": [],
   "source": [
    "#Spip list | grep tensorflow\n",
    "import sys,os\n",
    "sys.path.append(os.getcwd())\n",
    "from main import DL\n"
   ]
  },
  {
   "cell_type": "code",
   "execution_count": 4,
   "id": "e4d457c6",
   "metadata": {
    "scrolled": false
   },
   "outputs": [],
   "source": [
    "test = DL()"
   ]
  },
  {
   "cell_type": "code",
   "execution_count": null,
   "id": "bb8662ad",
   "metadata": {},
   "outputs": [],
   "source": [
    "test.importData(isTesting = True)"
   ]
  },
  {
   "cell_type": "code",
   "execution_count": null,
   "id": "d8a92dee",
   "metadata": {
    "scrolled": false
   },
   "outputs": [],
   "source": [
    "test.Train()\n"
   ]
  },
  {
   "cell_type": "code",
   "execution_count": null,
   "id": "afc42f1d",
   "metadata": {},
   "outputs": [],
   "source": []
  },
  {
   "cell_type": "markdown",
   "id": "d5220121",
   "metadata": {},
   "source": []
  },
  {
   "cell_type": "code",
   "execution_count": 8,
   "id": "9516e30b",
   "metadata": {},
   "outputs": [
    {
     "name": "stdout",
     "output_type": "stream",
     "text": [
      "ModelParameters/Model1/FocusOnDepth.p\n",
      "ModelParameters/Model1/FocusOnDepth.p\n",
      "file uploaded to AWS\n"
     ]
    }
   ],
   "source": [
    "test.upload_to_S3()"
   ]
  },
  {
   "cell_type": "code",
   "execution_count": null,
   "id": "253a2941",
   "metadata": {
    "scrolled": false
   },
   "outputs": [],
   "source": [
    "test.load()\n"
   ]
  },
  {
   "cell_type": "code",
   "execution_count": null,
   "id": "06534927",
   "metadata": {},
   "outputs": [],
   "source": [
    "test.modelD.summary()"
   ]
  },
  {
   "cell_type": "code",
   "execution_count": null,
   "id": "634f45bb",
   "metadata": {},
   "outputs": [],
   "source": [
    "import numpy as np\n",
    "import matplotlib.pyplot as plt\n",
    "\n",
    "fig, axes = plt.subplots(1, 6, figsize=(18, 3))  # Create a 1x6 grid of subplots with a specific size\n",
    "\n",
    "for i in range(6):\n",
    "    ax = axes[i]  # Access each axis\n",
    "    img_data = np.squeeze(test.FL[0, :, :, i, 0])\n",
    "    img = ax.imshow(img_data,vmin=np.min(img_data), vmax=np.max(img_data), cmap='jet')  # Display the image\n",
    "    ax.axis('off')  # Turn off both axes and ticks\n",
    "\n",
    "    cbar = fig.colorbar(img, ax=ax, shrink=0.8)  # Shrink the colorbar to 80% of its size\n",
    "\n",
    "plt.show()"
   ]
  },
  {
   "cell_type": "code",
   "execution_count": null,
   "id": "571570f4",
   "metadata": {},
   "outputs": [],
   "source": [
    "test.Analysis()"
   ]
  },
  {
   "cell_type": "code",
   "execution_count": null,
   "id": "a50993f4",
   "metadata": {},
   "outputs": [],
   "source": [
    "print(test.DF_min)"
   ]
  },
  {
   "cell_type": "code",
   "execution_count": null,
   "id": "cbaff132",
   "metadata": {},
   "outputs": [],
   "source": [
    "import numpy as np\n",
    "import matplotlib.pyplot as plt\n",
    "\n",
    "fig, axes = plt.subplots(1, 6, figsize=(18, 3))  # Create a 1x6 grid of subplots with a specific size\n",
    "\n",
    "for i in range(6):\n",
    "    ax = axes[i]  # Access each axis\n",
    "    img_data = np.squeeze(test.RE[0, :, :, i, 0])\n",
    "    img = ax.imshow(img_data,vmin=np.min(img_data), vmax=np.max(img_data), cmap='jet')  # Display the image\n",
    "    ax.axis('off')  # Turn off both axes and ticks\n",
    "\n",
    "    cbar = fig.colorbar(img, ax=ax, shrink=0.8)  # Shrink the colorbar to 80% of its size\n",
    "\n",
    "plt.show()"
   ]
  },
  {
   "cell_type": "code",
   "execution_count": null,
   "id": "dcac91c3",
   "metadata": {},
   "outputs": [],
   "source": [
    "import numpy as np\n",
    "import matplotlib.pyplot as plt\n",
    "\n",
    "fig, axes = plt.subplots(1, 2, figsize=(18, 3))  # Create a 1x6 grid of subplots with a specific size\n",
    "\n",
    "for i in range(2):\n",
    "    ax = axes[i]  # Access each axis\n",
    "    img_data = np.squeeze(test.OP[0, :, :, i])\n",
    "    img = ax.imshow(img_data,vmin=np.min(img_data), vmax=np.max(img_data), cmap='jet')  # Display the image\n",
    "    ax.axis('off')  # Turn off both axes and ticks\n",
    "\n",
    "    cbar = fig.colorbar(img, ax=ax, shrink=0.8)  # Shrink the colorbar to 80% of its size\n",
    "\n",
    "plt.show()"
   ]
  },
  {
   "cell_type": "code",
   "execution_count": null,
   "id": "b1960d2d",
   "metadata": {},
   "outputs": [],
   "source": [
    "#visualization of the filters and feature maps \n",
    "conv_layers = []\n",
    "for layer in test.modelD.layers:\n",
    "    \n",
    "    if 'conv' not in layer.name:\n",
    "        continue    \n",
    "\n",
    "    conv_layers.append(layer)\n",
    "    filters , bias = layer.get_weights()\n",
    "    print(layer.name , filters.shape)"
   ]
  },
  {
   "cell_type": "code",
   "execution_count": null,
   "id": "21912985",
   "metadata": {},
   "outputs": [],
   "source": [
    "# retrieve weights from the second hidden layer\n",
    "\n",
    "filters, bias = conv_layers[0].get_weights()\n",
    "\n",
    "# normalize filter values to 0-1 so we can visualize them\n",
    "f_min, f_max = filters.min(), filters.max()\n",
    "filters = (filters - f_min) / (f_max - f_min)"
   ]
  },
  {
   "cell_type": "code",
   "execution_count": null,
   "id": "14321594",
   "metadata": {},
   "outputs": [],
   "source": [
    "from matplotlib import pyplot\n",
    "n_filters =6\n",
    "ix=1\n",
    "fig = pyplot.figure(figsize=(20,15))\n",
    "for i in range(n_filters):\n",
    "    # get the filters\n",
    "    f = filters[:,:,:,0,i]\n",
    "    for j in range(3):\n",
    "        # subplot for 6 filters and 3 channels\n",
    "        pyplot.subplot(n_filters,3,ix)\n",
    "        pyplot.imshow(f[:,:,j] ,cmap='gray')\n",
    "        ix+=1\n",
    "#plot the filters \n",
    "pyplot.show()"
   ]
  },
  {
   "cell_type": "code",
   "execution_count": null,
   "id": "26ba5de3",
   "metadata": {},
   "outputs": [],
   "source": [
    "#list out convolutional layer indexes \n",
    "for i in range(len(test.modelD.layers)):\n",
    "    layer = test.modelD.layers[i]\n",
    "    if 'conv' not in layer.name:\n",
    "        continue    \n",
    "    print(i , layer.name , layer.output.shape)"
   ]
  },
  {
   "cell_type": "code",
   "execution_count": null,
   "id": "b6f92280",
   "metadata": {},
   "outputs": [],
   "source": [
    "#define the model \n",
    "test.visualize_feature_maps(65)"
   ]
  },
  {
   "cell_type": "code",
   "execution_count": null,
   "id": "6f657151",
   "metadata": {},
   "outputs": [],
   "source": [
    "#plot original image\n",
    "import numpy as np\n",
    "import matplotlib.pyplot as plt\n",
    "\n",
    "fig, axes = plt.subplots(1, 6, figsize=(18, 3))  # Create a 1x6 grid of subplots with a specific size\n",
    "\n",
    "for i in range(6):\n",
    "    ax = axes[i]  # Access each axis\n",
    "    img_data = np.squeeze(test.FL[0, :, :, i])\n",
    "    img = ax.imshow(img_data,vmin=np.min(img_data), vmax=np.max(img_data), cmap='jet')  # Display the image\n",
    "    ax.axis('off')  # Turn off both axes and ticks\n",
    "\n",
    "    cbar = fig.colorbar(img, ax=ax, shrink=0.8)  # Shrink the colorbar to 80% of its size\n",
    "\n",
    "plt.show()"
   ]
  },
  {
   "cell_type": "code",
   "execution_count": null,
   "id": "4215353a",
   "metadata": {},
   "outputs": [],
   "source": [
    "#calculating features_map\n",
    "from matplotlib import pyplot\n",
    "features = test.modelD_visualize.predict([test.OP, test.FL], batch_size = 1)\n",
    "print(features.shape)\n",
    "\n",
    "\n",
    "\n",
    "fig = pyplot.figure(figsize=(20, 15))\n",
    "for x in range(1):\n",
    "    #define new figure\n",
    "    fig, ax = plt.subplots(8, 8)\n",
    "    for i in range(1,features.shape[-1]+1):\n",
    "        #plt.subplot(8, 8,i)\n",
    "        ax[(i-1)//8, (i-1)%8].imshow(features[0,:,:,i-1] , cmap='gray')\n",
    "        ax[(i-1)//8, (i-1)%8].axis('off')\n",
    "    \n",
    "pyplot.show()"
   ]
  },
  {
   "cell_type": "code",
   "execution_count": null,
   "id": "8fd86325",
   "metadata": {},
   "outputs": [],
   "source": [
    "#load phantom data with different depths, check intensity values at each spatial frequency \n",
    "test.import_data_for_testing()\n"
   ]
  },
  {
   "cell_type": "code",
   "execution_count": null,
   "id": "06f70fa4",
   "metadata": {},
   "outputs": [],
   "source": [
    "print(test.FL.shape)"
   ]
  },
  {
   "cell_type": "code",
   "execution_count": null,
   "id": "a61468bb",
   "metadata": {},
   "outputs": [],
   "source": [
    "fx = [0, 0.05, 0.1, 0.15, 0.2, 0.25]\n",
    "for i in range(test.FL.shape[0]):\n",
    "    #for x in range(test.FL.shape[-1]):\n",
    "    plt.plot(fx, np.max(test.FL[i], axis = (0,1)))\n",
    "    plt.ylabel('Max Fluorescence Intensity')\n",
    "    plt.xlabel('Fx')\n",
    "    plt.title('Tumour 4 Max Intensity')\n"
   ]
  },
  {
   "cell_type": "code",
   "execution_count": null,
   "id": "88d99e7a",
   "metadata": {},
   "outputs": [],
   "source": [
    "#analyze only the middle portion \n",
    "for i in range(test.FL.shape[0]):\n",
    "    #for x in range(test.FL.shape[-1]):\n",
    "    plt.plot(fx, np.mean(test.FL[i,40:60,40:60], axis = (0,1)))\n",
    "    plt.ylabel('Mean Fluorescence Intensity')\n",
    "    plt.xlabel('Fx')\n",
    "    plt.title('Tumour 4 Mean Intensity')"
   ]
  },
  {
   "cell_type": "code",
   "execution_count": null,
   "id": "dc7ae866",
   "metadata": {},
   "outputs": [],
   "source": [
    "#analyze only the middle pixel \n",
    "for i in range(test.FL.shape[0]):\n",
    "    #for x in range(test.FL.shape[-1]):\n",
    "    plt.plot(fx, test.FL[i,50,50])\n",
    "    plt.ylabel('Pixel Wise Intensity')\n",
    "    plt.xlabel('Fx')\n",
    "    plt.title('Pixel Wise Intensity')"
   ]
  },
  {
   "cell_type": "code",
   "execution_count": null,
   "id": "6bac66cb",
   "metadata": {},
   "outputs": [],
   "source": [
    "#obtain the slope \n",
    "x_vec = np.linspace(1,5, 5)\n",
    "print(x)\n",
    "#for i in range(test.FL.shape[0]-1):\n",
    "for x in range(test.FL.shape[0]):\n",
    "    slope = [test.FL[x,50,50,i] - test.FL[x,50,50, i+1] for i in range(test.FL.shape[-1]-1)]\n",
    "    print(slope)\n",
    "    #for x in range(test.FL.shape[-1]):\n",
    "    plt.plot(x_vec, slope)\n",
    "    plt.ylabel('Pixel Wise Derivative')\n",
    "    plt.xlabel('Fx')\n",
    "    plt.title('Pixel Wise Derivative')"
   ]
  },
  {
   "cell_type": "code",
   "execution_count": null,
   "id": "88f90798",
   "metadata": {},
   "outputs": [],
   "source": [
    "#obtain the slope \n",
    "x_vec = np.linspace(1,5, 5)\n",
    "for i in range(test.FL.shape[-1]-1):\n",
    "    for x in range(test.FL.shape[0]):\n",
    "        slope = test.FL[x,50,50,i] - test.FL[x,50,50, i+1]#test.FL[x,50,50,0] - test.FL[x,50,50, 1]\n",
    "        depth = test.DF[x,50,50]\n",
    "        #for x in range(test.FL.shape[-1]):\n",
    "        plt.scatter(depth, slope, s=4, c = 'b')\n",
    "        plt.ylabel('Pixel Wise fluorescence derivative')\n",
    "        plt.xlabel('Depth')\n",
    "\n",
    "    plt.show()\n"
   ]
  },
  {
   "cell_type": "code",
   "execution_count": null,
   "id": "15c199c7",
   "metadata": {},
   "outputs": [],
   "source": []
  }
 ],
 "metadata": {
  "kernelspec": {
   "display_name": ".venv",
   "language": "python",
   "name": "python3"
  },
  "language_info": {
   "codemirror_mode": {
    "name": "ipython",
    "version": 3
   },
   "file_extension": ".py",
   "mimetype": "text/x-python",
   "name": "python",
   "nbconvert_exporter": "python",
   "pygments_lexer": "ipython3",
   "version": "3.12.9"
  }
 },
 "nbformat": 4,
 "nbformat_minor": 5
}
